{
 "cells": [
  {
   "cell_type": "markdown",
   "metadata": {},
   "source": [
    "Made by Alexey Unagaev. Enjoy!"
   ]
  },
  {
   "cell_type": "code",
   "execution_count": null,
   "metadata": {},
   "outputs": [],
   "source": [
    "# The code extracts the coordinate pairs from the image with geotaggs\n",
    "# Install exif library\n",
    "import os\n",
    "import glob\n",
    "import pandas as pd\n",
    "from exif import Image"
   ]
  },
  {
   "cell_type": "code",
   "execution_count": 5,
   "metadata": {},
   "outputs": [],
   "source": [
    "def coords(img): \n",
    "    # img: path to the image\n",
    "    with open(i, 'rb') as image_file: \n",
    "        my_image = Image(image_file)\n",
    "    y = my_image.gps_latitude[0]\n",
    "    \n",
    "    a = my_image.gps_altitude\n",
    "    \n",
    "    d = my_image.gps_longitude[0]\n",
    "    m = my_image.gps_longitude[1]\n",
    "    s = my_image.gps_longitude[2]\n",
    "\n",
    "    x = d + (m/60) + (s/3600)\n",
    "    x = round(x, 6)\n",
    "    if my_image.gps_longitude_ref == 'W':\n",
    "        x = -x\n",
    "    \n",
    "    return [x, y, a]"
   ]
  },
  {
   "cell_type": "code",
   "execution_count": 6,
   "metadata": {},
   "outputs": [],
   "source": [
    "path = os.path.normpath(r'Set your path here')\n",
    "l = []\n",
    "for i in glob.glob(path + '/'+'*.jpg'): \n",
    "    with open(i, 'rb') as image_file:\n",
    "        my_image = Image(image_file)\n",
    "        l.append(coords(i)+ [i])"
   ]
  },
  {
   "cell_type": "code",
   "execution_count": 8,
   "metadata": {},
   "outputs": [],
   "source": [
    "df_geo = pd.DataFrame(l, columns={'X' : [], 'Y' : [], 'Elevation' : [], 'Name' : []})\n",
    "df_geo.index.name = 'id'"
   ]
  },
  {
   "cell_type": "code",
   "execution_count": 9,
   "metadata": {},
   "outputs": [],
   "source": [
    "df_geo.to_csv('Geotags_Test.csv')"
   ]
  },
  {
   "cell_type": "code",
   "execution_count": null,
   "metadata": {},
   "outputs": [],
   "source": []
  }
 ],
 "metadata": {
  "kernelspec": {
   "display_name": "Python 3 (ipykernel)",
   "language": "python",
   "name": "python3"
  },
  "language_info": {
   "codemirror_mode": {
    "name": "ipython",
    "version": 3
   },
   "file_extension": ".py",
   "mimetype": "text/x-python",
   "name": "python",
   "nbconvert_exporter": "python",
   "pygments_lexer": "ipython3",
   "version": "3.9.7"
  }
 },
 "nbformat": 4,
 "nbformat_minor": 2
}
